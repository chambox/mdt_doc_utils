{
 "cells": [
  {
   "cell_type": "code",
   "execution_count": 1,
   "metadata": {},
   "outputs": [],
   "source": [
    "from mdt_doc_utils.mdt_doc_utils import WordDocumentManager\n",
    "from docx import Document\n",
    "import pandas as pd"
   ]
  },
  {
   "cell_type": "code",
   "execution_count": 2,
   "metadata": {},
   "outputs": [],
   "source": [
    "\n",
    "template_path = 'templates/word_template.docx'\n",
    "# output_path = 'output/populated_word_document.docx'"
   ]
  },
  {
   "cell_type": "code",
   "execution_count": 3,
   "metadata": {},
   "outputs": [],
   "source": [
    "\n",
    "muc_data_part_1 = {\n",
    "    'Model Owner': ['M-O'], \n",
    "    'Model Sponsor': ['M-S'], \n",
    "    'Model Name': ['M-N']\n",
    "    }\n",
    "\n",
    "muc_data_part_2 = {\n",
    "    'GMIS_MUC_ID': ['GMIS-7888-MUC-7888'], \n",
    "    'MUC_Purpose': ['ABC  CDF  XYZ'], \n",
    "    'Model User': ['User1'], 'MRMR': ['4']\n",
    "    }\n",
    "roles_dict = {\n",
    "    'Role': ['Model Validator','Peer Reviewer (optional)','Approver'],\n",
    "    'Name': ['N1','N2','N3'],\n",
    "    'Title': ['T1','T2','T3'],\n",
    "    'Email': ['E1','E2','E3'],\n",
    "}\n",
    "mdt_data = {'#': 1, 'MDT_name': '<MDT>', 'Reception_status': 'Received'}\n",
    "generic_data = [\n",
    "    ['1', '<title 1>', '', '']\n",
    "]"
   ]
  },
  {
   "cell_type": "code",
   "execution_count": 4,
   "metadata": {},
   "outputs": [],
   "source": [
    "\n",
    "\n",
    "# Initialize the WordDocumentManager\n",
    "manager = WordDocumentManager(template_path)\n",
    "\n",
    "# table_1\n",
    "manager.clear_table_content_except(0, [0])\n",
    "manager.add_data_to_table(0, muc_data_part_1, 1)\n",
    "manager.delete_empty_rows(0)\n",
    "# table 2\n",
    "manager.clear_table_content_except(1, [0])\n",
    "manager.add_data_to_table(1, muc_data_part_2, 1)\n",
    "manager.delete_empty_rows(1)\n",
    "\n",
    "# table 3\n",
    "manager.clear_table_content_except(2, [0])\n",
    "manager.add_data_to_table(2, roles_dict, 1)\n",
    "manager.delete_empty_rows(2)"
   ]
  },
  {
   "cell_type": "code",
   "execution_count": 5,
   "metadata": {},
   "outputs": [],
   "source": [
    "# Example DataFrame with RAG status to add to the document\n",
    "df_rag = pd.DataFrame({\n",
    "    'Task': ['Task 1', 'Task 2', 'Task 3'],\n",
    "    'Status': ['Red', 'Amber', 'Green']\n",
    "})\n"
   ]
  },
  {
   "cell_type": "code",
   "execution_count": 6,
   "metadata": {},
   "outputs": [
    {
     "ename": "AttributeError",
     "evalue": "'WordDocumentManager' object has no attribute 'add_rag_dataframe'",
     "output_type": "error",
     "traceback": [
      "\u001b[0;31m---------------------------------------------------------------------------\u001b[0m",
      "\u001b[0;31mAttributeError\u001b[0m                            Traceback (most recent call last)",
      "Cell \u001b[0;32mIn[6], line 2\u001b[0m\n\u001b[1;32m      1\u001b[0m \u001b[38;5;66;03m### Data frame \u001b[39;00m\n\u001b[0;32m----> 2\u001b[0m \u001b[43mmanager\u001b[49m\u001b[38;5;241;43m.\u001b[39;49m\u001b[43madd_rag_dataframe\u001b[49m(df_rag,caption\u001b[38;5;241m=\u001b[39m\u001b[38;5;124m\"\u001b[39m\u001b[38;5;124mTasks and their RAG status\u001b[39m\u001b[38;5;124m\"\u001b[39m)\n\u001b[1;32m      3\u001b[0m \u001b[38;5;66;03m# Add different types of text\u001b[39;00m\n\u001b[1;32m      4\u001b[0m manager\u001b[38;5;241m.\u001b[39madd_heading(\u001b[38;5;124m\"\u001b[39m\u001b[38;5;124mDocument Heading\u001b[39m\u001b[38;5;124m\"\u001b[39m, level\u001b[38;5;241m=\u001b[39m\u001b[38;5;241m1\u001b[39m)\n",
      "\u001b[0;31mAttributeError\u001b[0m: 'WordDocumentManager' object has no attribute 'add_rag_dataframe'"
     ]
    }
   ],
   "source": [
    "### Data frame \n",
    "manager.add_dataframe(df_rag,caption=\"Tasks and their RAG status\")\n",
    "# Add different types of text\n",
    "manager.add_heading(\"Document Heading\", level=1)\n",
    "manager.add_heading(\"Subheading Example\", level=2)\n",
    "manager.add_paragraph(\"This is a paragraph with some formatted text.\", bold=False, italic=False, underline=False, color=(255, 0, 0), font_size=14)\n",
    "manager.add_paragraph(\"This is a paragraph with black text.\", color=(0, 0, 0))\n",
    "manager.add_bullet_points([\"Bullet point 1\", \"Bullet point 2\", \"Bullet point 3\"])\n",
    "\n",
    "\n",
    "# Add a paragraph with mixed formatting\n",
    "mixed_format_parts = [\n",
    "    {'text': 'This is a paragraph'},\n",
    "    {'text': 'with mixed formatting. '},\n",
    "    {'text': 'Unhecked','color': (255,0, 0)}\n",
    "]\n",
    "manager.add_mixed_format_paragraph(mixed_format_parts)\n",
    "mixed_format_parts = [\n",
    "    {'text': 'This is a paragraph'},\n",
    "    {'text': 'without mixed formatting. '},\n",
    "    {'text': 'Checked','color': (0, 255,0)}\n",
    "]\n",
    "manager.add_mixed_format_paragraph(mixed_format_parts)"
   ]
  },
  {
   "cell_type": "code",
   "execution_count": null,
   "metadata": {},
   "outputs": [],
   "source": [
    "### Text \n",
    "\n",
    "\n",
    "manager.save('templates/word_template_filled.docx')"
   ]
  }
 ],
 "metadata": {
  "kernelspec": {
   "display_name": ".venv",
   "language": "python",
   "name": "python3"
  },
  "language_info": {
   "codemirror_mode": {
    "name": "ipython",
    "version": 3
   },
   "file_extension": ".py",
   "mimetype": "text/x-python",
   "name": "python",
   "nbconvert_exporter": "python",
   "pygments_lexer": "ipython3",
   "version": "3.10.2"
  }
 },
 "nbformat": 4,
 "nbformat_minor": 2
}
